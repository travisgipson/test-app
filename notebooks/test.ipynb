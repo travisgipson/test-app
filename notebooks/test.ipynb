{
 "cells": [
  {
   "cell_type": "code",
   "execution_count": 1,
   "metadata": {},
   "outputs": [],
   "source": [
    "import pandas as pd\n",
    "import datetime as dt\n",
    "import yfinance as yf\n",
    "import sqlalchemy as sqla\n",
    "import pandas_market_calendars as mcal\n",
    "\n",
    "# local modules\n",
    "import sys\n",
    "sys.path.append(\"../\")\n",
    "import lib"
   ]
  },
  {
   "cell_type": "code",
   "execution_count": 2,
   "metadata": {},
   "outputs": [],
   "source": [
    "# set query parameters\n",
    "tickers = [\"VOO\",\"VIOO\",\"VFVA\",\"VFMO\",\"VFQY\",\"VFMV\"]\n",
    "current_date = str(dt.date.today())\n",
    "current_time = dt.datetime.now().time()\n",
    "\n",
    "# set market calendar\n",
    "nyse_cal  = mcal.get_calendar(\"NYSE\")\n",
    "valid_mkt_days = [str(t.date()) for t in nyse_cal.valid_days(current_date,current_date)]"
   ]
  },
  {
   "cell_type": "code",
   "execution_count": null,
   "metadata": {},
   "outputs": [],
   "source": [
    "# run only when market has been open\n",
    "if current_date in valid_mkt_days:\n",
    "\n",
    "    #  ensure we're past market close (5pm central)\n",
    "    if current_time >= dt.time(hour=17):\n",
    "\n",
    "        # download today's data\n",
    "        ohlc = yf.download(tickers=tickers,period=\"1d\") \n",
    "\n",
    "        # stack data and reformat headers\n",
    "        df = ohlc.stack().reset_index().rename({\"level_1\":\"ticker\"},axis=1)\n",
    "        df.columns= [c.replace(\" \",\"_\").lower() for c in df.columns]\n",
    "\n",
    "        # save data locally\n",
    "        df.to_csv(\"./data/prices_{}\".format(current_date.replace(\"-\",\"\")))"
   ]
  },
  {
   "cell_type": "code",
   "execution_count": 3,
   "metadata": {},
   "outputs": [
    {
     "name": "stdout",
     "output_type": "stream",
     "text": [
      "[*********************100%***********************]  6 of 6 completed\n"
     ]
    },
    {
     "data": {
      "text/html": [
       "<div>\n",
       "<style scoped>\n",
       "    .dataframe tbody tr th:only-of-type {\n",
       "        vertical-align: middle;\n",
       "    }\n",
       "\n",
       "    .dataframe tbody tr th {\n",
       "        vertical-align: top;\n",
       "    }\n",
       "\n",
       "    .dataframe thead th {\n",
       "        text-align: right;\n",
       "    }\n",
       "</style>\n",
       "<table border=\"1\" class=\"dataframe\">\n",
       "  <thead>\n",
       "    <tr style=\"text-align: right;\">\n",
       "      <th></th>\n",
       "      <th>date</th>\n",
       "      <th>ticker</th>\n",
       "      <th>adj_close</th>\n",
       "      <th>close</th>\n",
       "      <th>high</th>\n",
       "      <th>low</th>\n",
       "      <th>open</th>\n",
       "      <th>volume</th>\n",
       "    </tr>\n",
       "  </thead>\n",
       "  <tbody>\n",
       "    <tr>\n",
       "      <th>5095</th>\n",
       "      <td>2023-05-17</td>\n",
       "      <td>VFMV</td>\n",
       "      <td>97.360001</td>\n",
       "      <td>97.360001</td>\n",
       "      <td>97.500000</td>\n",
       "      <td>96.400002</td>\n",
       "      <td>96.400002</td>\n",
       "      <td>5900</td>\n",
       "    </tr>\n",
       "    <tr>\n",
       "      <th>5096</th>\n",
       "      <td>2023-05-17</td>\n",
       "      <td>VFQY</td>\n",
       "      <td>106.818001</td>\n",
       "      <td>106.818001</td>\n",
       "      <td>106.910004</td>\n",
       "      <td>105.510002</td>\n",
       "      <td>105.510002</td>\n",
       "      <td>3400</td>\n",
       "    </tr>\n",
       "    <tr>\n",
       "      <th>5097</th>\n",
       "      <td>2023-05-17</td>\n",
       "      <td>VFVA</td>\n",
       "      <td>94.190002</td>\n",
       "      <td>94.190002</td>\n",
       "      <td>94.269997</td>\n",
       "      <td>92.290001</td>\n",
       "      <td>92.290001</td>\n",
       "      <td>93100</td>\n",
       "    </tr>\n",
       "    <tr>\n",
       "      <th>5098</th>\n",
       "      <td>2023-05-17</td>\n",
       "      <td>VIOO</td>\n",
       "      <td>86.150002</td>\n",
       "      <td>86.150002</td>\n",
       "      <td>86.330002</td>\n",
       "      <td>84.339996</td>\n",
       "      <td>84.720001</td>\n",
       "      <td>123600</td>\n",
       "    </tr>\n",
       "    <tr>\n",
       "      <th>5099</th>\n",
       "      <td>2023-05-17</td>\n",
       "      <td>VOO</td>\n",
       "      <td>381.450012</td>\n",
       "      <td>381.450012</td>\n",
       "      <td>382.089996</td>\n",
       "      <td>377.279999</td>\n",
       "      <td>378.850006</td>\n",
       "      <td>3222600</td>\n",
       "    </tr>\n",
       "  </tbody>\n",
       "</table>\n",
       "</div>"
      ],
      "text/plain": [
       "           date ticker   adj_close       close        high         low  \\\n",
       "5095 2023-05-17   VFMV   97.360001   97.360001   97.500000   96.400002   \n",
       "5096 2023-05-17   VFQY  106.818001  106.818001  106.910004  105.510002   \n",
       "5097 2023-05-17   VFVA   94.190002   94.190002   94.269997   92.290001   \n",
       "5098 2023-05-17   VIOO   86.150002   86.150002   86.330002   84.339996   \n",
       "5099 2023-05-17    VOO  381.450012  381.450012  382.089996  377.279999   \n",
       "\n",
       "            open   volume  \n",
       "5095   96.400002     5900  \n",
       "5096  105.510002     3400  \n",
       "5097   92.290001    93100  \n",
       "5098   84.720001   123600  \n",
       "5099  378.850006  3222600  "
      ]
     },
     "execution_count": 3,
     "metadata": {},
     "output_type": "execute_result"
    }
   ],
   "source": [
    "# download today's data\n",
    "ohlc = yf.download(tickers=tickers,start=\"2020-01-01\",end=\"2023-05-18\") \n",
    "\n",
    "# stack data and reformat headers\n",
    "df = ohlc.stack().reset_index().rename({\"level_1\":\"ticker\"},axis=1)\n",
    "df.columns= [c.replace(\" \",\"_\").lower() for c in df.columns]\n",
    "\n",
    "df.tail()"
   ]
  },
  {
   "cell_type": "code",
   "execution_count": 4,
   "metadata": {},
   "outputs": [],
   "source": [
    "# save data to postgres\n",
    "psql = lib.data.create_psql_eng(lib.creds.psql2)\n",
    "df.to_sql(name=\"etfs\",schema=\"prices\",if_exists=\"append\",con=psql,index=False)\n",
    "psql.close()"
   ]
  },
  {
   "cell_type": "code",
   "execution_count": null,
   "metadata": {},
   "outputs": [],
   "source": []
  }
 ],
 "metadata": {
  "kernelspec": {
   "display_name": "myapp",
   "language": "python",
   "name": "python3"
  },
  "language_info": {
   "codemirror_mode": {
    "name": "ipython",
    "version": 3
   },
   "file_extension": ".py",
   "mimetype": "text/x-python",
   "name": "python",
   "nbconvert_exporter": "python",
   "pygments_lexer": "ipython3",
   "version": "3.11.3"
  },
  "orig_nbformat": 4
 },
 "nbformat": 4,
 "nbformat_minor": 2
}
